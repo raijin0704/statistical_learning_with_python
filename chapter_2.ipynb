{
 "cells": [
  {
   "cell_type": "code",
   "execution_count": 1,
   "metadata": {},
   "outputs": [],
   "source": [
    "import numpy as np\n",
    "import matplotlib.pyplot as plt\n",
    "%matplotlib inline\n",
    "import scipy\n",
    "from scipy import stats\n",
    "from numpy.random import randn  \n",
    "# 標準正規乱数はよく使うので，randn として importしておく"
   ]
  },
  {
   "cell_type": "markdown",
   "metadata": {},
   "source": [
    "# 20"
   ]
  },
  {
   "cell_type": "code",
   "execution_count": 2,
   "metadata": {},
   "outputs": [],
   "source": [
    "def f(x):\n",
    "    return np.exp(beta_0+beta*x)/(1+np.exp(beta_0+beta*x))"
   ]
  },
  {
   "cell_type": "code",
   "execution_count": 3,
   "metadata": {},
   "outputs": [
    {
     "data": {
      "text/plain": [
       "<matplotlib.legend.Legend at 0x2630a19f828>"
      ]
     },
     "execution_count": 3,
     "metadata": {},
     "output_type": "execute_result"
    },
    {
     "data": {
      "image/png": "[encoded data removed]",
      "text/plain": [
       "<Figure size 432x288 with 1 Axes>"
      ]
     },
     "metadata": {
      "needs_background": "light"
     },
     "output_type": "display_data"
    }
   ],
   "source": [
    "beta_0=0\n",
    "beta_seq=np.array([0,0.2,0.5,1,2,10])\n",
    "x_seq=np.arange(-10,10,0.1)\n",
    "\n",
    "plt.xlabel(\"x\")\n",
    "plt.ylabel(\"P(Y=1|x)\")\n",
    "plt.title(\"ロジスティック曲線\")\n",
    "for i in range(beta_seq.shape[0]):\n",
    "    beta=beta_seq[i]\n",
    "    p=f(x_seq)\n",
    "    plt.plot(x_seq,p,label='{}'.format(beta))\n",
    "plt.legend(loc='upper left')"
   ]
  },
  {
   "cell_type": "markdown",
   "metadata": {},
   "source": [
    "βが大きいと0,1を取るxの値の範囲が大きくなる"
   ]
  },
  {
   "cell_type": "markdown",
   "metadata": {},
   "source": [
    "# 22"
   ]
  },
  {
   "cell_type": "markdown",
   "metadata": {},
   "source": [
    "## (a)"
   ]
  },
  {
   "cell_type": "code",
   "execution_count": 6,
   "metadata": {},
   "outputs": [],
   "source": [
    "# (a)\n",
    "def f(x):\n",
    "    return x**2 - 1\n",
    "\n",
    "def df(x):\n",
    "    return 2 * x"
   ]
  },
  {
   "cell_type": "code",
   "execution_count": 9,
   "metadata": {},
   "outputs": [
    {
     "data": {
      "text/plain": [
       "1.0"
      ]
     },
     "execution_count": 9,
     "metadata": {},
     "output_type": "execute_result"
    }
   ],
   "source": [
    "x = 2  # 初期値\n",
    "for i in range(100):\n",
    "    x = x - f(x)/df(x)\n",
    "x"
   ]
  },
  {
   "cell_type": "code",
   "execution_count": 10,
   "metadata": {},
   "outputs": [
    {
     "data": {
      "text/plain": [
       "-1.0"
      ]
     },
     "execution_count": 10,
     "metadata": {},
     "output_type": "execute_result"
    }
   ],
   "source": [
    "x = -2  # 初期値\n",
    "for i in range(100):\n",
    "    x = x - f(x)/df(x)\n",
    "x"
   ]
  },
  {
   "cell_type": "markdown",
   "metadata": {},
   "source": [
    "初期値によって結果が変化する"
   ]
  },
  {
   "cell_type": "markdown",
   "metadata": {},
   "source": [
    "## (b)"
   ]
  },
  {
   "cell_type": "code",
   "execution_count": 25,
   "metadata": {},
   "outputs": [],
   "source": [
    "def f(z):\n",
    "    return z[0]**2 + z[1]**2 - 1\n",
    "\n",
    "def dfx(z):\n",
    "    return 2 * z[0]\n",
    "\n",
    "def dfy(z):\n",
    "    return 2 * z[1]\n",
    "\n",
    "def g(z):\n",
    "    return z[0] + z[1]\n",
    "\n",
    "def dgx(z):\n",
    "    return 1\n",
    "\n",
    "def dgy(z):\n",
    "    return 1"
   ]
  },
  {
   "cell_type": "code",
   "execution_count": 41,
   "metadata": {},
   "outputs": [
    {
     "data": {
      "text/plain": [
       "array([-0.70710678,  0.70710678])"
      ]
     },
     "execution_count": 41,
     "metadata": {},
     "output_type": "execute_result"
    }
   ],
   "source": [
    "# 初期値\n",
    "z = np.array([1,2])\n",
    "\n",
    "for i in range(100):\n",
    "    jacob = np.array([[dfx(z), dfy(z)], [dgx(z), dgy(z)]])\n",
    "    z = z - np.linalg.inv(jacob) @ np.array([f(z), g(z)])\n",
    "z"
   ]
  },
  {
   "cell_type": "code",
   "execution_count": 37,
   "metadata": {},
   "outputs": [
    {
     "data": {
      "text/plain": [
       "2.220446049250313e-16"
      ]
     },
     "execution_count": 37,
     "metadata": {},
     "output_type": "execute_result"
    }
   ],
   "source": [
    "f(z)"
   ]
  },
  {
   "cell_type": "code",
   "execution_count": 38,
   "metadata": {},
   "outputs": [
    {
     "data": {
      "text/plain": [
       "0.0"
      ]
     },
     "execution_count": 38,
     "metadata": {},
     "output_type": "execute_result"
    }
   ],
   "source": [
    "g(z)"
   ]
  },
  {
   "cell_type": "markdown",
   "metadata": {},
   "source": [
    "# 24"
   ]
  },
  {
   "cell_type": "code",
   "execution_count": 85,
   "metadata": {},
   "outputs": [
    {
     "data": {
      "text/plain": [
       "array([ 0.27354637, -0.79023769, -0.56008867])"
      ]
     },
     "execution_count": 85,
     "metadata": {},
     "output_type": "execute_result"
    }
   ],
   "source": [
    "N=1000;p=2\n",
    "X=randn(N,p) \n",
    "X=np.insert(X, 0, 1, axis=1)\n",
    "\n",
    "beta=randn(p+1)\n",
    "y=[]\n",
    "prob=1/(1+np.exp(X@beta))\n",
    "for i in range(N):\n",
    "    if (np.random.rand(1)>prob[i]):\n",
    "        y.append(1)\n",
    "    else :\n",
    "        y.append(-1)\n",
    "#データの生成ここまで\n",
    "beta #確認"
   ]
  },
  {
   "cell_type": "code",
   "execution_count": 86,
   "metadata": {},
   "outputs": [
    {
     "name": "stdout",
     "output_type": "stream",
     "text": [
      "[-0.33428039  0.22143339  0.66992771]\n",
      "[ 0.51888725 -0.78928996 -0.88863161]\n",
      "[ 0.33084951 -0.69627619 -0.47931478]\n",
      "[ 0.35991843 -0.72019921 -0.53852051]\n",
      "[ 0.36072105 -0.72118442 -0.54006077]\n"
     ]
    }
   ],
   "source": [
    "#最尤推定\n",
    "beta=np.inf\n",
    "gamma=randn(p+1) #betaの初期値\n",
    "print(gamma)\n",
    "while (np.sum((beta-gamma)**2)>0.001):\n",
    "    beta=gamma\n",
    "    s = X@beta\n",
    "    v = np.exp(-s*y)\n",
    "    u = (y*v)/(1+v)  # (N,)\n",
    "    w = v/(1+v)**2  # (N,)\n",
    "    W = np.diag(w)  # (N,N)\n",
    "#     z = s+np.linalg.inv(W)@u\n",
    "    z = s+u/w\n",
    "    \n",
    "    gamma=np.linalg.inv(X.T@W@X)@X.T@W@z\n",
    "    print (gamma)"
   ]
  },
  {
   "cell_type": "code",
   "execution_count": 87,
   "metadata": {},
   "outputs": [
    {
     "name": "stdout",
     "output_type": "stream",
     "text": [
      "[-0.22056626  0.35376614  0.93817104]\n",
      "[ 0.55913902 -1.00523596 -1.32855746]\n",
      "[ 0.2379085  -0.53480288 -0.17026447]\n",
      "[ 0.34226452 -0.68792115 -0.50019611]\n",
      "[ 0.36029552 -0.72037203 -0.53923891]\n",
      "[ 0.36072147 -0.72118493 -0.54006155]\n"
     ]
    }
   ],
   "source": [
    "#最尤推定\n",
    "beta=np.inf\n",
    "gamma=randn(p+1) #betaの初期値\n",
    "print(gamma)\n",
    "while (np.sum((beta-gamma)**2)>0.001):\n",
    "    beta=gamma\n",
    "    s = X@beta\n",
    "    v = np.exp(-s*y)\n",
    "    u = (y*v)/(1+v)  # (N,)\n",
    "    w = v/((1+v)**2)  # (N,)\n",
    "    W = np.diag(w)  # (N,N)\n",
    "    z = s+np.linalg.inv(W)@u\n",
    "#     z = s+u/w\n",
    "    \n",
    "    gamma=np.linalg.inv(X.T@W@X)@X.T@W@z\n",
    "    print (gamma)"
   ]
  },
  {
   "cell_type": "markdown",
   "metadata": {},
   "source": [
    "s+np.linalg.inv(W)@u と s+u/w が同値になる(なんで？)"
   ]
  },
  {
   "cell_type": "markdown",
   "metadata": {},
   "source": [
    "# 26"
   ]
  },
  {
   "cell_type": "code",
   "execution_count": 94,
   "metadata": {},
   "outputs": [
    {
     "name": "stdout",
     "output_type": "stream",
     "text": [
      "[0.1707457  1.08776238]\n",
      "[0.15394492 1.4000646 ]\n",
      "[0.15192797 1.48210518]\n",
      "[0.15189457 1.48662295]\n"
     ]
    }
   ],
   "source": [
    "# データの生成\n",
    "n=100\n",
    "x=np.concatenate([randn(n)+1,randn(n)-1],0)\n",
    "y=np.concatenate([np.ones(n), -np.ones(n)], 0)\n",
    "\n",
    "train=np.random.choice(2*n,int(n),replace=False) # 訓練データの添え字\n",
    "test=list(set(range(2*n))-set(train))     # テストデータの添え字\n",
    "X=np.insert(x[train].reshape(-1,1), 0, 1, axis=1)\n",
    "Y=y[train]\n",
    "# すべて1の列をxの左において、2列とした\n",
    "\n",
    "# gammaの初期値によっては収束しないので、複数回施行することがある\n",
    "p=1\n",
    "beta=[0,0]; gamma=randn(p+1)\n",
    "print(gamma)\n",
    "while (np.sum((beta-gamma)**2)>0.001):\n",
    "    beta=gamma\n",
    "    s=X@beta\n",
    "    v=np.exp(-s*Y)\n",
    "    u=(Y*v)/(1+v)\n",
    "    w=v/((1+v)**2)\n",
    "    W=np.diag(w)\n",
    "    z=s+u/w\n",
    "    gamma=np.linalg.inv(X.T@W@X)@X.T@W@z\n",
    "    print (gamma)"
   ]
  },
  {
   "cell_type": "code",
   "execution_count": 145,
   "metadata": {},
   "outputs": [],
   "source": [
    "def table_count(m,u,v):\n",
    "    n=u.shape[0]\n",
    "    count=np.zeros([m,m])\n",
    "    for i in range(n):\n",
    "        count[int(u[i]), int(v[i])] += 1\n",
    "    return count"
   ]
  },
  {
   "cell_type": "code",
   "execution_count": 112,
   "metadata": {},
   "outputs": [
    {
     "data": {
      "text/plain": [
       "array([[45., 11.],\n",
       "       [ 5., 39.]])"
      ]
     },
     "execution_count": 112,
     "metadata": {},
     "output_type": "execute_result"
    }
   ],
   "source": [
    "ans=y[test] # 正解\n",
    "pred= np.sign(gamma[0]+x[test]*gamma[1])\n",
    "ans=(ans+1)/2   # -1,1から0,1になおす\n",
    "pred=(pred+1)/2   # -1,1から0,1になおす\n",
    "table_count(2 ,ans, pred)"
   ]
  },
  {
   "cell_type": "markdown",
   "metadata": {},
   "source": [
    "# 28"
   ]
  },
  {
   "cell_type": "code",
   "execution_count": 28,
   "metadata": {},
   "outputs": [
    {
     "data": {
      "text/plain": [
       "<matplotlib.legend.Legend at 0x1cbf3258978>"
      ]
     },
     "execution_count": 28,
     "metadata": {},
     "output_type": "execute_result"
    },
    {
     "data": {
      "image/png": "[encoded data removed]",
      "text/plain": [
       "<Figure size 432x288 with 1 Axes>"
      ]
     },
     "metadata": {
      "needs_background": "light"
     },
     "output_type": "display_data"
    }
   ],
   "source": [
    "# 真のパラメータ\n",
    "mu_1=np.array([2,2]); sigma_1=2; sigma_2=2; rho_1=0\n",
    "mu_2=np.array([-3,-3]); sigma_3=1; sigma_4=1; rho_2=-0.8\n",
    "\n",
    "# 真のパラメータに基づいてデータを発生\n",
    "n=100\n",
    "u=randn(n);v=randn(n)\n",
    "x_1=sigma_1*u+mu_1[0]; y_1=(rho_1*u+np.sqrt(1-rho_1**2)*v)*sigma_2+mu_1[1]\n",
    "u=randn(n);v=randn(n)\n",
    "x_2=sigma_3*u+mu_2[0]; y_2=(rho_2*u+np.sqrt(1-rho_2**2)*v)*sigma_4+mu_2[1]\n",
    "\n",
    "# 生成したデータの可視化\n",
    "plt.scatter(x_1, y_1, label=\"mu_1\", c=\"red\")\n",
    "plt.scatter(x_2, y_2, label=\"mu_2\", c=\"blue\")\n",
    "plt.legend()"
   ]
  },
  {
   "cell_type": "markdown",
   "metadata": {},
   "source": [
    "共分散行列が等しいことを仮定しない場合"
   ]
  },
  {
   "cell_type": "code",
   "execution_count": 99,
   "metadata": {},
   "outputs": [
    {
     "data": {
      "text/plain": [
       "<matplotlib.legend.Legend at 0x1cbf38a7198>"
      ]
     },
     "execution_count": 99,
     "metadata": {},
     "output_type": "execute_result"
    },
    {
     "data": {
      "image/png": "[encoded data removed]",
      "text/plain": [
       "<Figure size 432x288 with 1 Axes>"
      ]
     },
     "metadata": {
      "needs_background": "light"
     },
     "output_type": "display_data"
    }
   ],
   "source": [
    "# データからパラメータを推定\n",
    "mu_1=np.average((x_1,y_1),1); mu_2=np.average((x_2,y_2),1)\n",
    "df=np.array([x_1,y_1]); mat=np.cov(df,rowvar=1); inv_1=np.linalg.inv(mat); de_1=np.linalg.det(mat)\n",
    "df=np.array([x_2,y_2]); mat=np.cov(df,rowvar=1); inv_2=np.linalg.inv(mat); de_2=np.linalg.det(mat)\n",
    "\n",
    "# 推定されたパラメータを分布の式に代入\n",
    "def f(x,mu,inv,de):\n",
    "    return(-0.5*(x-mu).T@inv@(x-mu)-0.5*np.log(de))\n",
    "def f_1(u,v):\n",
    "    return f(np.array([u,v]),mu_1, inv_1, de_1)\n",
    "def f_2(u,v):\n",
    "    return f(np.array([u,v]),mu_2, inv_2, de_2)\n",
    "\n",
    "# 等高線データを作成\n",
    "# この値が0の箇所に境界線をひく\n",
    "pi_1=0.5; pi_2=0.5\n",
    "u=v=np.linspace(-6,6,50)\n",
    "m=len(u)\n",
    "w=np.zeros([m,m])\n",
    "for i in range(m):\n",
    "    for j in range(m):\n",
    "        w[i,j]=np.log(pi_1)+f_1(u[i],v[j])-np.log(pi_2)-f_2(u[i],v[j])\n",
    "        \n",
    "# 境界線とデータをプロット\n",
    "plt.contour(u,v,w,levels=0,colors=['black'])\n",
    "plt.scatter(x_1, y_1, label=\"mu_1\", c=\"red\")\n",
    "plt.scatter(x_2, y_2, label=\"mu_2\", c=\"blue\")\n",
    "plt.legend()"
   ]
  },
  {
   "cell_type": "markdown",
   "metadata": {},
   "source": [
    "共分散行列が等しいことを仮定する場合"
   ]
  },
  {
   "cell_type": "code",
   "execution_count": 98,
   "metadata": {},
   "outputs": [
    {
     "data": {
      "text/plain": [
       "<matplotlib.legend.Legend at 0x1cbf3842be0>"
      ]
     },
     "execution_count": 98,
     "metadata": {},
     "output_type": "execute_result"
    },
    {
     "data": {
      "image/png": "[encoded data removed]",
      "text/plain": [
       "<Figure size 432x288 with 1 Axes>"
      ]
     },
     "metadata": {
      "needs_background": "light"
     },
     "output_type": "display_data"
    }
   ],
   "source": [
    "# データからパラメータを推定\n",
    "mu_1=np.average((x_1,y_1),1); mu_2=np.average((x_2,y_2),1)\n",
    "xx = np.concatenate([x_1, x_2])\n",
    "yy = np.concatenate([y_1, y_2])\n",
    "df = np.array([xx, yy])\n",
    "mat=np.cov(df,rowvar=1); inv_1=np.linalg.inv(mat); de_1=np.linalg.det(mat)\n",
    "mat=np.cov(df,rowvar=1); inv_2=np.linalg.inv(mat); de_2=np.linalg.det(mat)\n",
    "\n",
    "# 推定されたパラメータを分布の式に代入\n",
    "def f(x,mu,inv,de):\n",
    "    return(-0.5*(x-mu).T@inv@(x-mu)-0.5*np.log(de))\n",
    "def f_1(u,v):\n",
    "    return f(np.array([u,v]),mu_1, inv_1, de_1)\n",
    "def f_2(u,v):\n",
    "    return f(np.array([u,v]),mu_2, inv_2, de_2)\n",
    "\n",
    "# 等高線データを作成\n",
    "# この値が0の箇所に境界線をひく\n",
    "pi_1=0.5; pi_2=0.5\n",
    "u=v=np.linspace(-6,6,50)\n",
    "m=len(u)\n",
    "w=np.zeros([m,m])\n",
    "for i in range(m):\n",
    "    for j in range(m):\n",
    "        w[i,j]=np.log(pi_1)+f_1(u[i],v[j])-np.log(pi_2)-f_2(u[i],v[j])\n",
    "        \n",
    "# 境界線とデータをプロット\n",
    "plt.contour(u,v,w,levels=0,colors=['black'])\n",
    "plt.scatter(x_1, y_1, label=\"mu_1\", c=\"red\")\n",
    "plt.scatter(x_2, y_2, label=\"mu_2\", c=\"blue\")\n",
    "plt.legend()"
   ]
  },
  {
   "cell_type": "markdown",
   "metadata": {},
   "source": [
    "# 29"
   ]
  },
  {
   "cell_type": "markdown",
   "metadata": {},
   "source": [
    "事前確率がすべて等しい場合"
   ]
  },
  {
   "cell_type": "code",
   "execution_count": 42,
   "metadata": {},
   "outputs": [],
   "source": [
    "from sklearn.datasets import load_iris\n",
    "\n",
    "iris = load_iris()\n",
    "iris.target_names\n",
    "x=iris.data\n",
    "y=iris.target\n",
    "n=len(x)\n",
    "train=np.random.choice(n,int(n/2),replace=False)\n",
    "test= np.array(list(set(range(n))-set(train)))"
   ]
  },
  {
   "cell_type": "code",
   "execution_count": 44,
   "metadata": {},
   "outputs": [],
   "source": [
    "## パラメータを推定する\n",
    "X=x[train,:]\n",
    "Y=y[train]\n",
    "mu=[]\n",
    "covv=[]\n",
    "for j in range(3):\n",
    "    xx=X[Y==j,:]\n",
    "    mu.append(np.mean(xx,0))\n",
    "    covv.append(np.cov(xx,rowvar=0))"
   ]
  },
  {
   "cell_type": "code",
   "execution_count": 45,
   "metadata": {},
   "outputs": [
    {
     "data": {
      "text/plain": [
       "array([[27.,  0.,  0.],\n",
       "       [ 0., 23.,  3.],\n",
       "       [ 0.,  0., 22.]])"
      ]
     },
     "execution_count": 45,
     "metadata": {},
     "output_type": "execute_result"
    }
   ],
   "source": [
    "## 推定されたパラメータを代入する分布の定義式\n",
    "def f(w,mu,inv,de):\n",
    "    return -0.5*(w-mu).T@inv@(w-mu)-0.5*np.log(de)\n",
    "def g(v,j):\n",
    "    return f(v,mu[j],np.linalg.inv(covv[j]),np.linalg.det(covv[j]))\n",
    "\n",
    "z = []\n",
    "for i in test:\n",
    "    a = g(x[i,],0)\n",
    "    b = g(x[i,],1)\n",
    "    c = g(x[i,],2)\n",
    "    if a<b:\n",
    "        if b<c:\n",
    "            z.append(2)\n",
    "        else:\n",
    "            z.append(1)\n",
    "    else:\n",
    "        z.append(0)\n",
    "\n",
    "\n",
    "table_count(3,y[test],z)  # 26で作成した関数を使用"
   ]
  },
  {
   "cell_type": "markdown",
   "metadata": {},
   "source": [
    "事前確率が0.5, 0.25 0.25の場合"
   ]
  },
  {
   "cell_type": "code",
   "execution_count": 103,
   "metadata": {},
   "outputs": [],
   "source": [
    "from sklearn.datasets import load_iris\n",
    "\n",
    "iris = load_iris()\n",
    "n0 = int(len(iris.target)/3)\n",
    "idx_0 = np.arange(n0)\n",
    "idx_1 = np.random.choice(n0,int(n0/2),replace=False)+n0\n",
    "idx_2 = np.random.choice(n0,int(n0/2),replace=False)+n0*2\n",
    "idx = np.append(np.append(idx_0,idx_1),idx_2)\n",
    "x=iris.data[idx]\n",
    "y=iris.target[idx]\n",
    "n=len(x)\n",
    "train=np.random.choice(n,int(n/2),replace=False)\n",
    "test= np.array(list(set(range(n))-set(train)))\n",
    "prior_prob = [len(idx_0)/len(idx), len(idx_1)/len(idx), len(idx_2)/len(idx)]"
   ]
  },
  {
   "cell_type": "code",
   "execution_count": 104,
   "metadata": {},
   "outputs": [],
   "source": [
    "## パラメータを推定する\n",
    "X=x[train,:]\n",
    "Y=y[train]\n",
    "mu=[]\n",
    "covv=[]\n",
    "for j in range(3):\n",
    "    xx=X[Y==j,:]\n",
    "    mu.append(np.mean(xx,0))\n",
    "    covv.append(np.cov(xx,rowvar=0))"
   ]
  },
  {
   "cell_type": "code",
   "execution_count": 105,
   "metadata": {},
   "outputs": [
    {
     "data": {
      "text/plain": [
       "array([[22.,  0.,  0.],\n",
       "       [ 0., 12.,  0.],\n",
       "       [ 0.,  5., 11.]])"
      ]
     },
     "execution_count": 105,
     "metadata": {},
     "output_type": "execute_result"
    }
   ],
   "source": [
    "## 推定されたパラメータを代入する分布の定義式\n",
    "def f(w,mu,inv,de,pi):\n",
    "    return -0.5*(w-mu).T@inv@(w-mu)-0.5*np.log(de)-np.log(pi)\n",
    "def g(v,j):\n",
    "    return f(v,mu[j],np.linalg.inv(covv[j]),np.linalg.det(covv[j]), prior_prob[j])\n",
    "\n",
    "z = []\n",
    "for i in test:\n",
    "    a = g(x[i,],0)\n",
    "    b = g(x[i,],1)\n",
    "    c = g(x[i,],2)\n",
    "    if a<b:\n",
    "        if b<c:\n",
    "            z.append(2)\n",
    "        else:\n",
    "            z.append(1)\n",
    "    else:\n",
    "        z.append(0)\n",
    "\n",
    "\n",
    "table_count(3,y[test],z)  # 26で作成した関数を使用"
   ]
  },
  {
   "cell_type": "markdown",
   "metadata": {},
   "source": [
    "# 30"
   ]
  },
  {
   "cell_type": "code",
   "execution_count": 143,
   "metadata": {},
   "outputs": [],
   "source": [
    "# スクラッチ\n",
    "\n",
    "# 各点とのノルムを計算する関数\n",
    "def _get_norm(X, y, target, k):\n",
    "    distance = np.full(X.shape[0], np.inf)\n",
    "    for i in range(X.shape[0]):\n",
    "        # ノルム計算\n",
    "        distance[i] = np.linalg.norm(target - X[i,:], ord=2)\n",
    "    return y[np.argsort(distance)]\n",
    "\n",
    "# k近傍法(1つの入力に対して)\n",
    "def _knn_one(X, y, target, k):\n",
    "    mode = [0,0]\n",
    "    # ノルム計算\n",
    "    nn = _get_norm(X, y, target, k)\n",
    "    while len(mode)>1:\n",
    "        # 最頻値獲得\n",
    "        count = np.bincount(nn[:k])\n",
    "        mode = [idx for idx, value in enumerate(count) if value==max(count)]\n",
    "        k -= 1\n",
    "    return mode[0]\n",
    "\n",
    "# k近傍法(１つ以上の入力に対して)\n",
    "def knn(X, y, targets, k):\n",
    "    # 入力が１つの場合\n",
    "    if len(targets.shape)==1:\n",
    "        assert X.shape[1]==targets.shape[0], \\\n",
    "            \"Data size dose not match.\"\n",
    "        return _knn_one(X, y, targets, k)\n",
    "    # 入力が２つ以上の場合\n",
    "    else:\n",
    "        modes = np.empty(targets.shape[0])\n",
    "        assert X.shape[1]==targets.shape[1], \\\n",
    "            \"Data size dose not match.\"\n",
    "        for idx in range(targets.shape[0]):\n",
    "            modes[idx] = _knn_one(X, y, targets[idx,:], k)\n",
    "        return modes"
   ]
  },
  {
   "cell_type": "code",
   "execution_count": 148,
   "metadata": {},
   "outputs": [
    {
     "data": {
      "text/plain": [
       "array([[26.,  0.,  0.],\n",
       "       [ 0., 21.,  3.],\n",
       "       [ 0.,  1., 24.]])"
      ]
     },
     "execution_count": 148,
     "metadata": {},
     "output_type": "execute_result"
    }
   ],
   "source": [
    "from sklearn.datasets import load_iris\n",
    "\n",
    "iris = load_iris()\n",
    "iris.target_names\n",
    "x=iris.data\n",
    "y=iris.target\n",
    "\n",
    "n=x.shape[0]\n",
    "train=np.random.choice(n, int(n/2), replace=False)\n",
    "test=list(set(range(n))-set(train))\n",
    "\n",
    "w=knn(x[train,],y[train],x[test,],k=3)\n",
    "table_count(3,y[test],w)"
   ]
  },
  {
   "cell_type": "markdown",
   "metadata": {},
   "source": [
    "# 31"
   ]
  },
  {
   "cell_type": "code",
   "execution_count": 150,
   "metadata": {},
   "outputs": [
    {
     "data": {
      "text/plain": [
       "Text(0.3, 0.5, 'AUC=0.9242266000000001')"
      ]
     },
     "execution_count": 150,
     "metadata": {},
     "output_type": "execute_result"
    },
    {
     "data": {
      "image/png": "[encoded data removed]",
      "text/plain": [
       "<Figure size 432x288 with 1 Axes>"
      ]
     },
     "metadata": {
      "needs_background": "light"
     },
     "output_type": "display_data"
    }
   ],
   "source": [
    "N_0=10000;N_1=1000\n",
    "mu_1=1;mu_0=-1  #病気の人1，正常な人0\n",
    "var_1=1;var_0=1\n",
    "x=np.random.normal(mu_0,var_0,N_0)\n",
    "y=np.random.normal(mu_1,var_1,N_1)\n",
    "\n",
    "theta_seq=np.exp(np.arange(-10,100,0.1))\n",
    "\n",
    "U=[]; V=[]\n",
    "for i in range(len(theta_seq)):\n",
    "    u=np.sum((stats.norm.pdf(x,mu_1,var_1)/stats.norm.pdf(x,mu_0,var_0))>theta_seq[i])/N_0 #病気でない人を病気とみなす\n",
    "    v=np.sum((stats.norm.pdf(y,mu_1,var_1)/stats.norm.pdf(y,mu_0,var_0))>theta_seq[i])/N_1 #病気の人を病気とみなす\n",
    "    U.append(u); V.append(v)\n",
    "    \n",
    "AUC=0 #面積を求める\n",
    "for i in range(len(theta_seq)-1):\n",
    "    AUC += np.abs(U[i+1]-U[i])*V[i]\n",
    "    \n",
    "plt.plot(U,V)\n",
    "plt.xlabel(\"False Positive\")\n",
    "plt.ylabel(\"True Positive\")\n",
    "plt.title(\"ROC曲線\")\n",
    "plt.text( 0.3,0.5, 'AUC={}'.format(AUC),fontsize=15)"
   ]
  }
 ],
 "metadata": {
  "kernelspec": {
   "display_name": "Python 3",
   "language": "python",
   "name": "python3"
  },
  "language_info": {
   "codemirror_mode": {
    "name": "ipython",
    "version": 3
   },
   "file_extension": ".py",
   "mimetype": "text/x-python",
   "name": "python",
   "nbconvert_exporter": "python",
   "pygments_lexer": "ipython3",
   "version": "3.7.3"
  }
 },
 "nbformat": 4,
 "nbformat_minor": 4
}
