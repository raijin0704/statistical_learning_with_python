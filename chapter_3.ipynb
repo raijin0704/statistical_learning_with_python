{
 "cells": [
  {
   "cell_type": "markdown",
   "metadata": {},
   "source": [
    "# 3章 クロスバリデーション"
   ]
  },
  {
   "cell_type": "code",
   "execution_count": 14,
   "metadata": {},
   "outputs": [],
   "source": [
    "import pandas as pd\n",
    "import numpy as np\n",
    "import matplotlib.pyplot as plt\n",
    "%matplotlib inline\n",
    "import scipy\n",
    "from scipy import stats\n",
    "from numpy.random import randn"
   ]
  },
  {
   "cell_type": "markdown",
   "metadata": {},
   "source": [
    "# 35"
   ]
  },
  {
   "cell_type": "code",
   "execution_count": 6,
   "metadata": {},
   "outputs": [],
   "source": [
    "n=1000;p=5\n",
    "X = np.insert(randn(n, p), 0, 1, axis=1)\n",
    "beta = randn(p + 1).reshape(-1, 1)\n",
    "y = X@beta + 0.2 * randn(n).reshape(-1,1)\n",
    "y = y[:, 0]"
   ]
  },
  {
   "cell_type": "code",
   "execution_count": 7,
   "metadata": {},
   "outputs": [],
   "source": [
    "# 通常のクロスバリデーション\n",
    "def cv_linear(X,y,K):\n",
    "    n=len(y)\n",
    "    m=int(n/K)\n",
    "    S=0\n",
    "    for j in range(K):\n",
    "        test=list(range(j*m,(j+1)*m)) # テストデータの添え字 \n",
    "        train=list(set(range(n))-set(test))     # 訓練データの添え字\n",
    "        beta=np.linalg.inv(X[train,].T@X[train,])@X[train,].T@y[train]\n",
    "        e=y[test]-X[test,]@beta\n",
    "        S=S+np.linalg.norm(e)**2\n",
    "    return S/n"
   ]
  },
  {
   "cell_type": "code",
   "execution_count": 8,
   "metadata": {},
   "outputs": [],
   "source": [
    "# 高速版クロスバリデーション\n",
    "def cv_fast(X,y,K):\n",
    "    n=len(y)\n",
    "    m=int(n/K)\n",
    "    H = X @ np.linalg.inv(X.T @ X) @ X.T\n",
    "    I=np.diag(np.repeat(1,n))\n",
    "    e=(I-H)@y\n",
    "    Ik=np.diag(np.repeat(1,m))\n",
    "    S=0\n",
    "    for j in range(k):\n",
    "        test=np.arange(j*m,(j+1)*m,1,dtype=int)\n",
    "        a = np.linalg.inv(Ik-H[test,test])@e[test]\n",
    "        S += a.T @ a\n",
    "    return S/n"
   ]
  },
  {
   "cell_type": "code",
   "execution_count": 18,
   "metadata": {},
   "outputs": [
    {
     "data": {
      "image/png": "[encoded data removed]",
      "text/plain": [
       "<Figure size 432x288 with 1 Axes>"
      ]
     },
     "metadata": {
      "needs_background": "light"
     },
     "output_type": "display_data"
    },
    {
     "data": {
      "text/html": [
       "<div>\n",
       "<style scoped>\n",
       "    .dataframe tbody tr th:only-of-type {\n",
       "        vertical-align: middle;\n",
       "    }\n",
       "\n",
       "    .dataframe tbody tr th {\n",
       "        vertical-align: top;\n",
       "    }\n",
       "\n",
       "    .dataframe thead th {\n",
       "        text-align: right;\n",
       "    }\n",
       "</style>\n",
       "<table border=\"1\" class=\"dataframe\">\n",
       "  <thead>\n",
       "    <tr style=\"text-align: right;\">\n",
       "      <th></th>\n",
       "      <th>cv_linear</th>\n",
       "      <th>cv_fast</th>\n",
       "    </tr>\n",
       "  </thead>\n",
       "  <tbody>\n",
       "    <tr>\n",
       "      <td>2</td>\n",
       "      <td>0.040518</td>\n",
       "      <td>0.039618</td>\n",
       "    </tr>\n",
       "    <tr>\n",
       "      <td>4</td>\n",
       "      <td>0.040687</td>\n",
       "      <td>0.041698</td>\n",
       "    </tr>\n",
       "    <tr>\n",
       "      <td>5</td>\n",
       "      <td>0.040348</td>\n",
       "      <td>0.051890</td>\n",
       "    </tr>\n",
       "    <tr>\n",
       "      <td>8</td>\n",
       "      <td>0.040388</td>\n",
       "      <td>0.045668</td>\n",
       "    </tr>\n",
       "    <tr>\n",
       "      <td>10</td>\n",
       "      <td>0.040247</td>\n",
       "      <td>0.042818</td>\n",
       "    </tr>\n",
       "    <tr>\n",
       "      <td>20</td>\n",
       "      <td>0.040303</td>\n",
       "      <td>0.040998</td>\n",
       "    </tr>\n",
       "    <tr>\n",
       "      <td>25</td>\n",
       "      <td>0.040267</td>\n",
       "      <td>0.040578</td>\n",
       "    </tr>\n",
       "    <tr>\n",
       "      <td>40</td>\n",
       "      <td>0.040283</td>\n",
       "      <td>0.040597</td>\n",
       "    </tr>\n",
       "    <tr>\n",
       "      <td>50</td>\n",
       "      <td>0.040261</td>\n",
       "      <td>0.040523</td>\n",
       "    </tr>\n",
       "    <tr>\n",
       "      <td>100</td>\n",
       "      <td>0.040235</td>\n",
       "      <td>0.040377</td>\n",
       "    </tr>\n",
       "    <tr>\n",
       "      <td>125</td>\n",
       "      <td>0.040268</td>\n",
       "      <td>0.040382</td>\n",
       "    </tr>\n",
       "    <tr>\n",
       "      <td>200</td>\n",
       "      <td>0.040248</td>\n",
       "      <td>0.040300</td>\n",
       "    </tr>\n",
       "    <tr>\n",
       "      <td>250</td>\n",
       "      <td>0.040264</td>\n",
       "      <td>0.040309</td>\n",
       "    </tr>\n",
       "    <tr>\n",
       "      <td>500</td>\n",
       "      <td>0.040264</td>\n",
       "      <td>0.040272</td>\n",
       "    </tr>\n",
       "    <tr>\n",
       "      <td>1000</td>\n",
       "      <td>0.040265</td>\n",
       "      <td>0.040265</td>\n",
       "    </tr>\n",
       "  </tbody>\n",
       "</table>\n",
       "</div>"
      ],
      "text/plain": [
       "      cv_linear   cv_fast\n",
       "2      0.040518  0.039618\n",
       "4      0.040687  0.041698\n",
       "5      0.040348  0.051890\n",
       "8      0.040388  0.045668\n",
       "10     0.040247  0.042818\n",
       "20     0.040303  0.040998\n",
       "25     0.040267  0.040578\n",
       "40     0.040283  0.040597\n",
       "50     0.040261  0.040523\n",
       "100    0.040235  0.040377\n",
       "125    0.040268  0.040382\n",
       "200    0.040248  0.040300\n",
       "250    0.040264  0.040309\n",
       "500    0.040264  0.040272\n",
       "1000   0.040265  0.040265"
      ]
     },
     "metadata": {},
     "output_type": "display_data"
    }
   ],
   "source": [
    "import time\n",
    "\n",
    "U_l=[]; V_l=[]; U_f=[]; V_f=[]\n",
    "errors = []\n",
    "for k in range(2,n+1,1):\n",
    "    if n%k==0:\n",
    "        # 通常版\n",
    "        t1=time.time() # 処理前の時刻\n",
    "        error_linear = cv_linear(X,y,k)\n",
    "        t2=time.time() #処理後の時刻\n",
    "        U_l.append(k)\n",
    "        V_l.append(t2-t1)\n",
    "        # 高速版\n",
    "        t1=time.time() \n",
    "        error_fast = cv_fast(X,y,k)\n",
    "        t2=time.time() \n",
    "        U_f.append(k)\n",
    "        V_f.append(t2-t1)\n",
    "        \n",
    "        errors.append([error_linear, error_fast])\n",
    "        \n",
    "plt.plot(U_l,V_l,c=\"red\",label=\"cv_linear\")\n",
    "plt.plot(U_f,V_f,c=\"blue\",label=\"cv_fast\")\n",
    "plt.legend()  \n",
    "plt.xlabel(\"k\")\n",
    "plt.ylabel(\"実行時間\")\n",
    "plt.title(\"cv_fastとcv_linearの比較\")\n",
    "plt.show()\n",
    "\n",
    "# 結果が一致しているか確認\n",
    "df_error = pd.DataFrame(errors, columns=[\"cv_linear\", \"cv_fast\"] ,index=U_f)\n",
    "display(df_error)"
   ]
  },
  {
   "cell_type": "markdown",
   "metadata": {},
   "source": [
    "# 36"
   ]
  },
  {
   "cell_type": "code",
   "execution_count": 25,
   "metadata": {},
   "outputs": [
    {
     "data": {
      "image/png": "[encoded data removed]",
      "text/plain": [
       "<Figure size 432x288 with 1 Axes>"
      ]
     },
     "metadata": {
      "needs_background": "light"
     },
     "output_type": "display_data"
    }
   ],
   "source": [
    "n=100;p=5\n",
    "plt.ylim(0.3,1.5)\n",
    "plt.xlabel(\"k\")\n",
    "plt.ylabel(\"CVの値\")\n",
    "for j in range(2,11,1):\n",
    "    X=randn(n,p)\n",
    "    X=np.insert(X, 0, 1, axis=1)\n",
    "    beta=randn(p+1)\n",
    "    y=X@beta+randn(n)\n",
    "    U = []; V = []\n",
    "    for k in range(2,n+1,1):\n",
    "        if n%k==0:\n",
    "            U.append(k)\n",
    "            V.append(cv_fast(X,y,k))\n",
    "    plt.plot(U,V)        "
   ]
  },
  {
   "cell_type": "markdown",
   "metadata": {},
   "source": [
    "# 37"
   ]
  },
  {
   "cell_type": "markdown",
   "metadata": {},
   "source": [
    "knn再掲"
   ]
  },
  {
   "cell_type": "code",
   "execution_count": 27,
   "metadata": {},
   "outputs": [],
   "source": [
    "# スクラッチ\n",
    "\n",
    "# 各点とのノルムを計算する関数\n",
    "def _get_norm(X, y, target, k):\n",
    "    distance = np.full(X.shape[0], np.inf)\n",
    "    for i in range(X.shape[0]):\n",
    "        # ノルム計算\n",
    "        distance[i] = np.linalg.norm(target - X[i,:], ord=2)\n",
    "    return y[np.argsort(distance)]\n",
    "\n",
    "# k近傍法(1つの入力に対して)\n",
    "def _knn_one(X, y, target, k):\n",
    "    mode = [0,0]\n",
    "    # ノルム計算\n",
    "    nn = _get_norm(X, y, target, k)\n",
    "    while len(mode)>1:\n",
    "        # 最頻値獲得\n",
    "        count = np.bincount(nn[:k])\n",
    "        mode = [idx for idx, value in enumerate(count) if value==max(count)]\n",
    "        k -= 1\n",
    "    return mode[0]\n",
    "\n",
    "# k近傍法(１つ以上の入力に対して)\n",
    "def knn(X, y, targets, k):\n",
    "    # 入力が１つの場合\n",
    "    if len(targets.shape)==1:\n",
    "        assert X.shape[1]==targets.shape[0], \\\n",
    "            \"Data size dose not match.\"\n",
    "        return _knn_one(X, y, targets, k)\n",
    "    # 入力が２つ以上の場合\n",
    "    else:\n",
    "        modes = np.empty(targets.shape[0])\n",
    "        assert X.shape[1]==targets.shape[1], \\\n",
    "            \"Data size dose not match.\"\n",
    "        for idx in range(targets.shape[0]):\n",
    "            modes[idx] = _knn_one(X, y, targets[idx,:], k)\n",
    "        return modes"
   ]
  },
  {
   "cell_type": "code",
   "execution_count": 26,
   "metadata": {},
   "outputs": [],
   "source": [
    "from sklearn.datasets import load_iris\n",
    "iris = load_iris()\n",
    "iris.target_names\n",
    "x=iris.data\n",
    "y=iris.target\n",
    "\n",
    "n=x.shape[0]\n",
    "index=np.random.choice(n, n, replace=False) # 並び替える\n",
    "x=x[index,]\n",
    "y=y[index]"
   ]
  },
  {
   "cell_type": "code",
   "execution_count": 29,
   "metadata": {},
   "outputs": [
    {
     "data": {
      "image/png": "[encoded data removed]",
      "text/plain": [
       "<Figure size 432x288 with 1 Axes>"
      ]
     },
     "metadata": {
      "needs_background": "light"
     },
     "output_type": "display_data"
    }
   ],
   "source": [
    "U = []\n",
    "V = []\n",
    "top_seq=list(range(0,135,10))\n",
    "for k in range(1,11,1):\n",
    "    S=0\n",
    "    for top in top_seq:\n",
    "        test=list(range(top,top+15))\n",
    "        train=list(set(range(150))-set(test))\n",
    "        knn_ans=knn(x[train,],y[train],x[test,],k=k)\n",
    "        ans=y[test]\n",
    "        S=S+np.sum(knn_ans!=ans)\n",
    "    S=S/n\n",
    "    U.append(k)\n",
    "    V.append(S)\n",
    "plt.plot(U,V)\n",
    "plt.xlabel(\"K\")\n",
    "plt.ylabel(\" 誤り率\")\n",
    "plt.title(\"CV による誤り率の評価\")\n",
    "plt.show()"
   ]
  },
  {
   "cell_type": "markdown",
   "metadata": {},
   "source": [
    "# 38"
   ]
  },
  {
   "cell_type": "code",
   "execution_count": 64,
   "metadata": {},
   "outputs": [],
   "source": [
    "def bt(df, f, r):\n",
    "    m = df.shape[0]\n",
    "    org = f(df, np.arange(m))  # 空欄(1)\n",
    "    u = []\n",
    "    for j in range(r):\n",
    "        idx = np.random.choice(m, m, replace=True)  # 空欄(2)\n",
    "        u.append(f(df, idx))\n",
    "    \n",
    "    return {'original':org, 'bias':np.mean(u)-org, 'stderr':np.std(u)}"
   ]
  },
  {
   "cell_type": "code",
   "execution_count": 65,
   "metadata": {},
   "outputs": [],
   "source": [
    "def func_1(data, idx):\n",
    "    X = data[idx, 0]\n",
    "    Y = data[idx, 1]\n",
    "    \n",
    "    \n",
    "    return (np.var(Y)-np.var(X))/(np.var(X)+np.var(Y)-2*np.cov(X,Y)[0,1])"
   ]
  },
  {
   "cell_type": "code",
   "execution_count": 66,
   "metadata": {},
   "outputs": [
    {
     "data": {
      "text/plain": [
       "{'original': 0.15330230333295436,\n",
       " 'bias': 0.00788326341424675,\n",
       " 'stderr': 0.1898859944115764}"
      ]
     },
     "execution_count": 66,
     "metadata": {},
     "output_type": "execute_result"
    }
   ],
   "source": [
    "portfolio = np.loadtxt('./distribution/Portfolio.csv', delimiter=\",\", skiprows=1)\n",
    "bt(portfolio, func_1, 1000)"
   ]
  },
  {
   "cell_type": "markdown",
   "metadata": {},
   "source": [
    "# 39"
   ]
  },
  {
   "cell_type": "code",
   "execution_count": 32,
   "metadata": {},
   "outputs": [],
   "source": [
    "from sklearn import linear_model"
   ]
  },
  {
   "cell_type": "code",
   "execution_count": 34,
   "metadata": {},
   "outputs": [
    {
     "data": {
      "text/plain": [
       "array([11.8583308 , -5.97341169])"
      ]
     },
     "execution_count": 34,
     "metadata": {},
     "output_type": "execute_result"
    }
   ],
   "source": [
    "df=np.loadtxt(\"./distribution/crime.txt\",delimiter=\"\\t\")\n",
    "\n",
    "reg = linear_model.LinearRegression()\n",
    "X = df[:, [2,3]]\n",
    "y = df[:, 0]\n",
    "reg.fit(X, y)\n",
    "reg.coef_"
   ]
  },
  {
   "cell_type": "code",
   "execution_count": 67,
   "metadata": {},
   "outputs": [
    {
     "name": "stdout",
     "output_type": "stream",
     "text": [
      "{'original': 621.4260363802889, 'bias': 36.69361654339036, 'stderr': 222.20238289328958}\n",
      "{'original': 11.858330796711094, 'bias': -0.5099989760246757, 'stderr': 3.4237985004260083}\n",
      "{'original': -5.973411688164963, 'bias': -0.1723869203244437, 'stderr': 3.271319379225455}\n"
     ]
    }
   ],
   "source": [
    "for j in range(3):\n",
    "    def func_2(data,index):\n",
    "        X=data[index,2:4];y=data[index,0]\n",
    "        reg.fit(X,y)\n",
    "        if j==0:\n",
    "            return reg.intercept_\n",
    "        else:\n",
    "            return reg.coef_[j-1]\n",
    "    print (bt(df,func_2,1000))"
   ]
  },
  {
   "cell_type": "markdown",
   "metadata": {},
   "source": [
    "1行目の出力  ： 回帰式の切片の標準偏差<br>\n",
    "2,3行目の出力： 回帰係数の標準偏差"
   ]
  }
 ],
 "metadata": {
  "kernelspec": {
   "display_name": "Python 3",
   "language": "python",
   "name": "python3"
  },
  "language_info": {
   "codemirror_mode": {
    "name": "ipython",
    "version": 3
   },
   "file_extension": ".py",
   "mimetype": "text/x-python",
   "name": "python",
   "nbconvert_exporter": "python",
   "pygments_lexer": "ipython3",
   "version": "3.7.3"
  }
 },
 "nbformat": 4,
 "nbformat_minor": 4
}
