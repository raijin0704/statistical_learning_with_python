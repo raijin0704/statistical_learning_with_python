{
 "cells": [
  {
   "cell_type": "code",
   "execution_count": 3,
   "metadata": {},
   "outputs": [],
   "source": [
    "import numpy as np\n",
    "import matplotlib.pyplot as plt\n",
    "%matplotlib inline\n",
    "import scipy\n",
    "from scipy import stats\n",
    "from numpy.random import randn"
   ]
  },
  {
   "cell_type": "markdown",
   "metadata": {},
   "source": [
    "# 46"
   ]
  },
  {
   "cell_type": "code",
   "execution_count": 4,
   "metadata": {},
   "outputs": [],
   "source": [
    "from sklearn.linear_model import LinearRegression\n",
    "import itertools  # 組合わせを列挙する"
   ]
  },
  {
   "cell_type": "code",
   "execution_count": 8,
   "metadata": {},
   "outputs": [],
   "source": [
    "def RSS_min(X,y,T):\n",
    "    res = LinearRegression()\n",
    "    S_min=np.inf\n",
    "    m=len(T)\n",
    "    for j in range(m):\n",
    "        q=T[j]\n",
    "        res.fit(X[:,q],y)\n",
    "        y_hat=res.predict(X[:,q])\n",
    "        S=np.linalg.norm(y_hat-y)**2\n",
    "        if S<S_min:\n",
    "            S_min=S\n",
    "            set_q=q\n",
    "    return(S_min, set_q)"
   ]
  },
  {
   "cell_type": "code",
   "execution_count": 9,
   "metadata": {},
   "outputs": [],
   "source": [
    "from sklearn.datasets import load_boston\n",
    "\n",
    "boston = load_boston()\n",
    "X=boston.data[:,[0,2,4,5,6,7,9,10,11,12]]\n",
    "y=boston.target"
   ]
  },
  {
   "cell_type": "code",
   "execution_count": 25,
   "metadata": {},
   "outputs": [
    {
     "name": "stdout",
     "output_type": "stream",
     "text": [
      "4770.415163216072 (0, 2, 3, 5, 7, 8, 9)\n"
     ]
    }
   ],
   "source": [
    "n, p = X.shape\n",
    "AIC_min = np.inf\n",
    "\n",
    "for k in range(1,p+1):\n",
    "    T = list(itertools.combinations(range(p),k))\n",
    "    # p子からk個選ぶ組み合わせを各列に持つ\n",
    "    S_min, set_q = RSS_min(X, y, T)\n",
    "    AIC = n*np.log(S_min) + 2*k  # 空欄(1)\n",
    "    if AIC < AIC_min:\n",
    "        AIC_min = AIC  # 空欄(2)\n",
    "        set_min = set_q  # 空欄(3)\n",
    "\n",
    "print(AIC_min, set_min)"
   ]
  },
  {
   "cell_type": "markdown",
   "metadata": {},
   "source": [
    "# 47"
   ]
  },
  {
   "cell_type": "code",
   "execution_count": 22,
   "metadata": {},
   "outputs": [
    {
     "name": "stdout",
     "output_type": "stream",
     "text": [
      "4796.644613310488 (2, 3, 5, 7, 8, 9)\n"
     ]
    }
   ],
   "source": [
    "n, p = X.shape\n",
    "BIC_min = np.inf\n",
    "\n",
    "for k in range(1,p+1):\n",
    "    T = list(itertools.combinations(range(p),k))\n",
    "    # p個からk個選ぶ組み合わせを各列に持つ\n",
    "    S_min, set_q = RSS_min(X, y, T)\n",
    "    BIC = n*np.log(S_min) + k*np.log(n)\n",
    "    if BIC < BIC_min:\n",
    "        BIC_min = BIC\n",
    "        set_min = set_q\n",
    "\n",
    "print(BIC_min, set_min)"
   ]
  },
  {
   "cell_type": "code",
   "execution_count": 39,
   "metadata": {},
   "outputs": [],
   "source": [
    "def AR2(X,y,T):\n",
    "    res = LinearRegression()\n",
    "    AR_max = -np.inf\n",
    "    m=len(T)\n",
    "    for j in range(m):\n",
    "        q=T[j]\n",
    "        n, k = X[:,q].shape\n",
    "        res.fit(X[:,q],y)\n",
    "        y_hat=res.predict(X[:,q])\n",
    "        TSS = np.sum((y-y.mean())**2)\n",
    "        RSS = np.sum((y-y_hat)**2)\n",
    "        AR = 1 - (RSS/(n-k-1))/(TSS/(n-1))\n",
    "        if AR > AR_max:\n",
    "            AR_max = AR\n",
    "            set_q=q\n",
    "    return(AR_max, set_q)"
   ]
  },
  {
   "cell_type": "code",
   "execution_count": 40,
   "metadata": {},
   "outputs": [
    {
     "name": "stdout",
     "output_type": "stream",
     "text": [
      "0.7130213433266739 (0, 2, 3, 5, 7, 8, 9)\n"
     ]
    }
   ],
   "source": [
    "n, p = X.shape\n",
    "AR_max = -np.inf\n",
    "\n",
    "for k in range(1,p+1):\n",
    "    T = list(itertools.combinations(range(p),k))\n",
    "    # p個からk個選ぶ組み合わせを各列に持つ\n",
    "    AR, q = AR2(X, y, T)\n",
    "    if AR > AR_max:\n",
    "        AR_max = AR\n",
    "        set_q = q\n",
    "print(AR_max, set_q)"
   ]
  },
  {
   "cell_type": "markdown",
   "metadata": {},
   "source": [
    "# 48"
   ]
  },
  {
   "cell_type": "code",
   "execution_count": 42,
   "metadata": {},
   "outputs": [],
   "source": [
    "def IC(X,y,k):\n",
    "    n,p=X.shape\n",
    "    T=list(itertools.combinations(range(p), k))\n",
    "    S, set_q=RSS_min(X,y,T)\n",
    "    AIC = n*np.log(S) + 2*k  # 空欄(1)\n",
    "    BIC = n*np.log(S) + k*np.log(n)  # 空欄(2)\n",
    "    return {'AIC':AIC, 'BIC':BIC}"
   ]
  },
  {
   "cell_type": "code",
   "execution_count": 43,
   "metadata": {},
   "outputs": [
    {
     "data": {
      "text/plain": [
       "<matplotlib.legend.Legend at 0x1a510adc9e8>"
      ]
     },
     "execution_count": 43,
     "metadata": {},
     "output_type": "execute_result"
    },
    {
     "data": {
      "image/png": "[encoded data removed]",
      "text/plain": [
       "<Figure size 432x288 with 1 Axes>"
      ]
     },
     "metadata": {
      "needs_background": "light"
     },
     "output_type": "display_data"
    }
   ],
   "source": [
    "AIC_seq = []\n",
    "BIC_seq = []\n",
    "\n",
    "for k in range(1, p+1):\n",
    "    AIC_seq.append(IC(X, y, k)[\"AIC\"])  # 空欄(3)\n",
    "    BIC_seq.append(IC(X, y, k)[\"BIC\"])  # 空欄(4)\n",
    "x_seq = np.arange(1, p+1)\n",
    "plt.plot(x_seq,AIC_seq,c=\"red\",label=\"AIC\")\n",
    "plt.plot(x_seq,BIC_seq,c=\"blue\",label=\"BIC\")\n",
    "plt.xlabel(\"変数の個数\")\n",
    "plt.ylabel(\"AIC/BICの値\")\n",
    "plt.title(\"変数の個数とAICとBICの値の変化\")\n",
    "plt.legend()"
   ]
  }
 ],
 "metadata": {
  "kernelspec": {
   "display_name": "Python 3",
   "language": "python",
   "name": "python3"
  },
  "language_info": {
   "codemirror_mode": {
    "name": "ipython",
    "version": 3
   },
   "file_extension": ".py",
   "mimetype": "text/x-python",
   "name": "python",
   "nbconvert_exporter": "python",
   "pygments_lexer": "ipython3",
   "version": "3.7.3"
  }
 },
 "nbformat": 4,
 "nbformat_minor": 4
}
