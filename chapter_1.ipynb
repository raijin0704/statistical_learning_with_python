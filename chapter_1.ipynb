{
 "cells": [
  {
   "cell_type": "code",
   "execution_count": 23,
   "metadata": {},
   "outputs": [],
   "source": [
    "import numpy as np\n",
    "import matplotlib.pyplot as plt\n",
    "%matplotlib inline\n",
    "import scipy\n",
    "from scipy import stats\n",
    "from numpy.random import randn  \n",
    "# 標準正規乱数はよく使うので，randn として importしておく"
   ]
  },
  {
   "cell_type": "markdown",
   "metadata": {},
   "source": [
    "# 3"
   ]
  },
  {
   "cell_type": "code",
   "execution_count": 2,
   "metadata": {},
   "outputs": [],
   "source": [
    "def min_sq(x,y):  # 最小二乗法の切片と傾きを求める関数\n",
    "    x_bar,y_bar=np.mean(x),np.mean(y)\n",
    "    beta_1=np.dot(x-x_bar,y-y_bar)/np.linalg.norm(x-x_bar)**2\n",
    "    beta_0=y_bar-beta_1*x_bar\n",
    "    return  [beta_1,beta_0]"
   ]
  },
  {
   "cell_type": "code",
   "execution_count": 3,
   "metadata": {},
   "outputs": [],
   "source": [
    "N=100\n",
    "a=np.random.normal(loc=2,scale=1,size=N)\n",
    "b=randn(1) # 切片\n",
    "x=randn(N)        \n",
    "y=a*x+b+randn(N)  # ここまで人工データの生成\n",
    "a1,b1=min_sq(x,y)           # 回帰係数・切片\n",
    "xx=x-x.mean()\n",
    "yy=y-y.mean()\n",
    "a2,b2=min_sq(xx,yy)         # 中心化後の回帰係数・切片"
   ]
  },
  {
   "cell_type": "code",
   "execution_count": 4,
   "metadata": {},
   "outputs": [
    {
     "data": {
      "text/plain": [
       "(2.0763640275278656, 0.26148264941048116)"
      ]
     },
     "execution_count": 4,
     "metadata": {},
     "output_type": "execute_result"
    }
   ],
   "source": [
    "a1,b1"
   ]
  },
  {
   "cell_type": "code",
   "execution_count": 5,
   "metadata": {},
   "outputs": [
    {
     "data": {
      "text/plain": [
       "(2.0763640275278656, 1.0844659459953503e-16)"
      ]
     },
     "execution_count": 5,
     "metadata": {},
     "output_type": "execute_result"
    }
   ],
   "source": [
    "a2,b2"
   ]
  },
  {
   "cell_type": "code",
   "execution_count": 6,
   "metadata": {},
   "outputs": [
    {
     "data": {
      "text/plain": [
       "<matplotlib.legend.Legend at 0x1f0618922e8>"
      ]
     },
     "execution_count": 6,
     "metadata": {},
     "output_type": "execute_result"
    },
    {
     "data": {
      "image/png": "[encoded data removed]",
      "text/plain": [
       "<Figure size 432x288 with 1 Axes>"
      ]
     },
     "metadata": {
      "needs_background": "light"
     },
     "output_type": "display_data"
    }
   ],
   "source": [
    "x_seq=np.arange(-5,5,0.1)\n",
    "y_pre=x_seq*a1+b1\n",
    "yy_pre=x_seq*a2+b2\n",
    "plt.scatter(x,y,c=\"black\")\n",
    "plt.axhline(y=0,c=\"black\",linewidth=0.5)\n",
    "plt.axvline(x=0,c=\"black\",linewidth=0.5)\n",
    "plt.plot(x_seq,y_pre,c=\"blue\",label=\" 中心化前\")\n",
    "plt.plot(x_seq,yy_pre,c=\"orange\",label=\" 中心化後\")\n",
    "plt.legend(loc=\"upper left\")"
   ]
  },
  {
   "cell_type": "markdown",
   "metadata": {},
   "source": [
    "# 12"
   ]
  },
  {
   "cell_type": "code",
   "execution_count": 13,
   "metadata": {},
   "outputs": [
    {
     "name": "stdout",
     "output_type": "stream",
     "text": [
      "切片： -0.048483196548781936 0.10797085052860728 -0.44903968350176265 0.6543944661242032\n",
      "回帰係数 -0.028623006858035736 0.10694803159958306 -0.2676347234253101 0.7895429646666945\n"
     ]
    }
   ],
   "source": [
    "N=100\n",
    "x=randn(N);y=randn(N)\n",
    "beta_1,beta_0=min_sq(x,y)\n",
    "RSS=np.linalg.norm(y-beta_0-beta_1*x)**2\n",
    "RSE=np.sqrt(RSS/(N-1-1))\n",
    "B_0=(np.linalg.norm(x)**2/N)/np.linalg.norm(x-np.mean(x))**2\n",
    "B_1=1/np.linalg.norm(x-np.mean(x))**2\n",
    "se_0=RSE*np.sqrt(B_0)\n",
    "se_1=RSE*np.sqrt(B_1)\n",
    "t_0=beta_0/se_0\n",
    "t_1=beta_1/se_1\n",
    "p_0=2*(1-stats.t.cdf(np.abs(t_0),N-2))\n",
    "p_1=2*(1-stats.t.cdf(np.abs(t_1),N-2))\n",
    "print(\"切片：\", beta_0,se_0,t_0,p_0) # 切片\n",
    "print(\"回帰係数\", beta_1,se_1,t_1,p_1) # 回帰係数"
   ]
  },
  {
   "cell_type": "code",
   "execution_count": 14,
   "metadata": {},
   "outputs": [
    {
     "data": {
      "text/plain": [
       "(array([[-0.02862301]]), array([-0.0484832]))"
      ]
     },
     "execution_count": 14,
     "metadata": {},
     "output_type": "execute_result"
    }
   ],
   "source": [
    "from sklearn import linear_model\n",
    "reg = linear_model.LinearRegression()\n",
    "x=x.reshape(-1,1) # sklearnでは配列のサイズを明示する必要がある\n",
    "y=y.reshape(-1,1) # 片方の次元を設定し, もう片方を-1にすると自動でしてくれる\n",
    "reg.fit(x, y) # 実行\n",
    "reg.coef_ ,reg.intercept_  # 回帰係数 beta_1, 切片 beta_0"
   ]
  },
  {
   "cell_type": "code",
   "execution_count": 15,
   "metadata": {},
   "outputs": [
    {
     "name": "stdout",
     "output_type": "stream",
     "text": [
      "                            OLS Regression Results                            \n",
      "==============================================================================\n",
      "Dep. Variable:                      y   R-squared:                       0.001\n",
      "Model:                            OLS   Adj. R-squared:                 -0.009\n",
      "Method:                 Least Squares   F-statistic:                   0.07163\n",
      "Date:                Sat, 09 May 2020   Prob (F-statistic):              0.790\n",
      "Time:                        22:41:36   Log-Likelihood:                -148.39\n",
      "No. Observations:                 100   AIC:                             300.8\n",
      "Df Residuals:                      98   BIC:                             306.0\n",
      "Df Model:                           1                                         \n",
      "Covariance Type:            nonrobust                                         \n",
      "==============================================================================\n",
      "                 coef    std err          t      P>|t|      [0.025      0.975]\n",
      "------------------------------------------------------------------------------\n",
      "const         -0.0485      0.108     -0.449      0.654      -0.263       0.166\n",
      "x1            -0.0286      0.107     -0.268      0.790      -0.241       0.184\n",
      "==============================================================================\n",
      "Omnibus:                        0.548   Durbin-Watson:                   2.084\n",
      "Prob(Omnibus):                  0.760   Jarque-Bera (JB):                0.651\n",
      "Skew:                          -0.164   Prob(JB):                        0.722\n",
      "Kurtosis:                       2.778   Cond. No.                         1.06\n",
      "==============================================================================\n",
      "\n",
      "Warnings:\n",
      "[1] Standard Errors assume that the covariance matrix of the errors is correctly specified.\n"
     ]
    }
   ],
   "source": [
    "import statsmodels.api as sm\n",
    "X= np.insert(x, 0, 1, axis=1)\n",
    "model = sm.OLS(y,X)\n",
    "res = model.fit()\n",
    "print(res.summary())"
   ]
  },
  {
   "cell_type": "markdown",
   "metadata": {},
   "source": [
    "真のパラメータ：beta_0 = -0.0485, beta_1 = -0.0286<br>\n",
    "sklearn.linear_model：beta_0 = -0.0485, beta_1 = -0.0286<br>\n",
    "statmodels.api： beta_0 = -0.0485, beta_1 = -0.0286<br>\n",
    "  \n",
    "等しいのが確認できる"
   ]
  },
  {
   "cell_type": "markdown",
   "metadata": {},
   "source": [
    "# 13"
   ]
  },
  {
   "cell_type": "code",
   "execution_count": 16,
   "metadata": {},
   "outputs": [
    {
     "data": {
      "text/plain": [
       "Text(0, 0.5, ' 確率密度')"
      ]
     },
     "execution_count": 16,
     "metadata": {},
     "output_type": "execute_result"
    },
    {
     "data": {
      "image/png": "[encoded data removed]",
      "text/plain": [
       "<Figure size 432x288 with 1 Axes>"
      ]
     },
     "metadata": {
      "needs_background": "light"
     },
     "output_type": "display_data"
    }
   ],
   "source": [
    "N=100;r=1000\n",
    "T=[]\n",
    "for i in range(r):\n",
    "    x=randn(N);y=randn(N)\n",
    "    beta_1,beta_0=min_sq(x,y)\n",
    "    pre_y=beta_0+beta_1*x # yの予測値\n",
    "    RSS=np.linalg.norm(y-pre_y)**2\n",
    "    RSE=np.sqrt(RSS/(N-1-1))\n",
    "    B_1=1/np.linalg.norm(x-np.mean(x))**2\n",
    "    se_1=RSE*np.sqrt(B_1)\n",
    "    T.append(beta_1/se_1)\n",
    "plt.hist(T,bins=20,range=(-3,3),density=True)\n",
    "x=np.linspace(-4,4,400)\n",
    "plt.plot(x,stats.t.pdf(x,1))\n",
    "plt.title(\" 帰無仮説が成立する場合\")\n",
    "plt.xlabel(' tの値')\n",
    "plt.ylabel(' 確率密度')"
   ]
  },
  {
   "cell_type": "code",
   "execution_count": 18,
   "metadata": {},
   "outputs": [
    {
     "data": {
      "text/plain": [
       "Text(0, 0.5, ' 確率密度')"
      ]
     },
     "execution_count": 18,
     "metadata": {},
     "output_type": "execute_result"
    },
    {
     "data": {
      "image/png": "[encoded data removed]",
      "text/plain": [
       "<Figure size 432x288 with 1 Axes>"
      ]
     },
     "metadata": {
      "needs_background": "light"
     },
     "output_type": "display_data"
    }
   ],
   "source": [
    "N=100;r=1000\n",
    "T=[]\n",
    "for i in range(r):\n",
    "    x=randn(N);y=0.1*x+randn(N)\n",
    "    beta_1,beta_0=min_sq(x,y)\n",
    "    pre_y=beta_0+beta_1*x # yの予測値\n",
    "    RSS=np.linalg.norm(y-pre_y)**2\n",
    "    RSE=np.sqrt(RSS/(N-1-1))\n",
    "    B_1=1/np.linalg.norm(x-np.mean(x))**2\n",
    "    se_1=RSE*np.sqrt(B_1)\n",
    "    T.append(beta_1/se_1)\n",
    "plt.hist(T,bins=20,range=(-3,3),density=True)\n",
    "x=np.linspace(-4,4,400)\n",
    "plt.plot(x,stats.t.pdf(x,1))\n",
    "plt.title(\" 帰無仮説が成立しない場合\")\n",
    "plt.xlabel(' tの値')\n",
    "plt.ylabel(' 確率密度')"
   ]
  },
  {
   "cell_type": "markdown",
   "metadata": {},
   "source": [
    "上の帰無仮説が成立する場合は、回帰係数が０である帰無仮説を棄却できていないため、yをxの式で表現できているとは言えない。<br>\n",
    "下の帰無仮説が成立しない場合は、回帰係数が０である帰無仮説を棄却できるため、yをxの式で表現できていると言える。"
   ]
  },
  {
   "cell_type": "markdown",
   "metadata": {},
   "source": [
    "# 15"
   ]
  },
  {
   "cell_type": "code",
   "execution_count": 16,
   "metadata": {},
   "outputs": [
    {
     "name": "stdout",
     "output_type": "stream",
     "text": [
      "R2 =  0.0022669558679250246\n",
      "[[1.         0.04761256]\n",
      " [0.04761256 1.        ]]\n"
     ]
    }
   ],
   "source": [
    "def R2(x,y):\n",
    "    n=x.shape[0]\n",
    "    xx=np.insert(x, 0, 1, axis=1)\n",
    "    beta=np.linalg.inv(xx.T@xx)@xx.T@y\n",
    "    y_hat=np.dot(xx,beta)\n",
    "    y_bar=np.mean(y)\n",
    "    RSS=np.linalg.norm(y-y_hat)**2\n",
    "    TSS=np.linalg.norm(y-y_bar)**2\n",
    "    return 1-RSS/TSS\n",
    "N = 100\n",
    "m = 1\n",
    "x = randn(N, m)\n",
    "y = randn(N)\n",
    "print(\"R2 = \", format(R2(x,y)))\n",
    "print(np.corrcoef(x.reshape(-1),y))"
   ]
  },
  {
   "cell_type": "markdown",
   "metadata": {},
   "source": [
    "# 16"
   ]
  },
  {
   "cell_type": "code",
   "execution_count": 37,
   "metadata": {},
   "outputs": [
    {
     "data": {
      "text/plain": [
       "[1.792191547433241,\n",
       " 2.298758178749441,\n",
       " 3.9915964183460333,\n",
       " 1.0739953275537888,\n",
       " 4.393719847577495,\n",
       " 1.9337444357832565,\n",
       " 3.1008255128153372,\n",
       " 3.9559449063727263,\n",
       " 7.484496335274478,\n",
       " 9.00855394759707,\n",
       " 1.799084049248899,\n",
       " 1.3485210764063755,\n",
       " 2.9414910780919357]"
      ]
     },
     "execution_count": 37,
     "metadata": {},
     "output_type": "execute_result"
    }
   ],
   "source": [
    "from sklearn.datasets import load_boston\n",
    "\n",
    "boston = load_boston()\n",
    "p = boston.data.shape[1]\n",
    "values = []\n",
    "\n",
    "for j in range(p):\n",
    "    S = list(set(range(p)) - {j})\n",
    "    r2 = R2(boston.data[:,S], boston.data[:,j])\n",
    "    values.append(1/(1-r2))\n",
    "values"
   ]
  },
  {
   "cell_type": "markdown",
   "metadata": {},
   "source": [
    "# 18"
   ]
  },
  {
   "cell_type": "code",
   "execution_count": 40,
   "metadata": {},
   "outputs": [
    {
     "data": {
      "text/plain": [
       "Text(0, 0.5, 'y')"
      ]
     },
     "execution_count": 40,
     "metadata": {},
     "output_type": "execute_result"
    },
    {
     "data": {
      "image/png": "[encoded data removed]",
      "text/plain": [
       "<Figure size 432x288 with 1 Axes>"
      ]
     },
     "metadata": {
      "needs_background": "light"
     },
     "output_type": "display_data"
    }
   ],
   "source": [
    "N=100;p=1\n",
    "X=randn(N,p)\n",
    "X=np.insert(X, 0, 1, axis=1)\n",
    "beta=np.array([1,1])\n",
    "epsilon=randn(N)\n",
    "y=X@beta+epsilon\n",
    "# 関数f(x),g(x)を定義\n",
    "U=np.linalg.inv(X.T@X)\n",
    "beta_hat=U@X.T@y\n",
    "RSS=np.linalg.norm(y-X@beta_hat)**2\n",
    "RSE=np.sqrt(RSS/(N-p-1))\n",
    "alpha=0.05\n",
    "# 信頼区間\n",
    "def f(x):\n",
    "    x=np.array([1,x])\n",
    "    # stats.t.ppf(0.975,df=N-p-1) # 累積確率が1-alpha/2となる点\n",
    "    range=stats.t.ppf(0.975,df=N-p-1)*RSE*np.sqrt(x@U@x.T)\n",
    "    lower=x@beta_hat-range\n",
    "    upper=x@beta_hat+range\n",
    "    return ([lower,upper])\n",
    "\n",
    "# 予測区間\n",
    "def g(x):\n",
    "    x=np.array([1,x])\n",
    "    # stats.t.ppf(0.975,df=N-p-1) # 累積確率が1-alpha/2となる点\n",
    "    range=stats.t.ppf(0.975,df=N-p-1)*RSE*np.sqrt(1+x@U@x.T)\n",
    "    lower=x@beta_hat-range\n",
    "    upper=x@beta_hat+range\n",
    "    return ([lower,upper])\n",
    "\n",
    "# 例\n",
    "stats.t.ppf(0.975,df=1)  # 確率pに対応する点\n",
    "12.706204736432095\n",
    "x_seq=np.arange(-10,10,0.1)\n",
    "# 信頼区間\n",
    "lower_seq1=[]; upper_seq1=[]\n",
    "for i in range(len(x_seq)):\n",
    "    lower_seq1.append(f(x_seq[i])[0])\n",
    "    upper_seq1.append(f(x_seq[i])[1])\n",
    "# 予測区間\n",
    "lower_seq2=[]; upper_seq2=[]\n",
    "for i in range(len(x_seq)):\n",
    "    lower_seq2.append(g(x_seq[i])[0])\n",
    "    upper_seq2.append(g(x_seq[i])[1])\n",
    "yy=beta_hat[0]+beta_hat[1]*x_seq\n",
    "plt.xlim(np.min(x_seq),np.max(x_seq))\n",
    "plt.ylim(np.min(lower_seq1),np.max(upper_seq1))\n",
    "plt.plot(x_seq,yy,c=\"black\")\n",
    "plt.plot(x_seq,lower_seq1,c=\"blue\")\n",
    "plt.plot(x_seq,upper_seq1,c=\"red\")\n",
    "plt.plot(x_seq,lower_seq2,c=\"blue\",linestyle=\"dashed\")\n",
    "plt.plot(x_seq,upper_seq2,c=\"red\",linestyle=\"dashed\")\n",
    "plt.xlabel(\"x\")\n",
    "plt.ylabel(\"y\")"
   ]
  },
  {
   "cell_type": "code",
   "execution_count": null,
   "metadata": {},
   "outputs": [],
   "source": []
  }
 ],
 "metadata": {
  "kernelspec": {
   "display_name": "Python 3",
   "language": "python",
   "name": "python3"
  },
  "language_info": {
   "codemirror_mode": {
    "name": "ipython",
    "version": 3
   },
   "file_extension": ".py",
   "mimetype": "text/x-python",
   "name": "python",
   "nbconvert_exporter": "python",
   "pygments_lexer": "ipython3",
   "version": "3.7.3"
  }
 },
 "nbformat": 4,
 "nbformat_minor": 2
}
